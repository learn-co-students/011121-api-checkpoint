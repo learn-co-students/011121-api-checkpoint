{
 "cells": [
  {
   "cell_type": "markdown",
   "metadata": {
    "nbgrader": {
     "grade": false,
     "grade_id": "2fb689aa5122f5742fa6ef1455217b69",
     "locked": true,
     "schema_version": 3,
     "solution": false,
     "task": false
    }
   },
   "source": [
    "# APIs and Web Scraping"
   ]
  },
  {
   "cell_type": "code",
   "execution_count": 1,
   "metadata": {
    "nbgrader": {
     "grade": false,
     "grade_id": "ddbd9fa4064eabbad69f050c5150bae1",
     "locked": true,
     "schema_version": 3,
     "solution": false,
     "task": false
    }
   },
   "outputs": [],
   "source": [
    "# Run this cell without changes\n",
    "import requests\n",
    "import json\n",
    "from bs4 import BeautifulSoup"
   ]
  },
  {
   "cell_type": "markdown",
   "metadata": {
    "nbgrader": {
     "grade": false,
     "grade_id": "c7141da9e1d4a81c1ebcbc821945a7f2",
     "locked": true,
     "schema_version": 3,
     "solution": false,
     "task": false
    }
   },
   "source": [
    "In this assessment you will primarily be exploring a Pokemon dataset. Pokemon are fictional creatures from the [Nintendo franchise](https://en.wikipedia.org/wiki/Pok%C3%A9mon) of the same name.\n",
    "\n",
    "Some Pokemon facts that might be useful:\n",
    "* The word \"pokemon\" is both singular and plural. You may refer to \"one pokemon\" or \"many pokemon\".\n",
    "* Pokemon have attributes such as a name, weight, and height.\n",
    "* Pokemon have one or multiple \"types\". A type is something like \"electric\", \"water\", \"ghost\", or \"normal\" that indicates the abilities that pokemon may possess.\n",
    "* The humans who collect pokemon are called \"trainers\"."
   ]
  },
  {
   "cell_type": "markdown",
   "metadata": {
    "nbgrader": {
     "grade": false,
     "grade_id": "a253cef954b1c5e43b784dee5c3b446c",
     "locked": true,
     "schema_version": 3,
     "solution": false,
     "task": false
    }
   },
   "source": [
    "## 1. Accessing Data Through APIs\n",
    "\n",
    "We'll be using the PokéAPI to get data on Pokemon. \n",
    "\n",
    "[Consult the PokéAPI documentation here](https://pokeapi.co/docs/v2.html) for information on obtaining data from this API."
   ]
  },
  {
   "cell_type": "markdown",
   "metadata": {
    "nbgrader": {
     "grade": false,
     "grade_id": "a205007eb0742f2a87f7548a763d6549",
     "locked": true,
     "schema_version": 3,
     "solution": false,
     "task": false
    }
   },
   "source": [
    "We want to know the \"types\" of any particular pokemon given its name. Complete the `get_pokemon_types` function below. It should return a `list` of all the names of the \"types\" that pokemon has\n",
    "\n",
    "Within `get_pokemon_types`, make a request to `\"https://pokeapi.co/api/v2/pokemon/<add-name-of-pokemon-here>\"`. Inspect the API response and extract the names of the types. Here are the [docs for this specific API route](https://pokeapi.co/docs/v2.html/#pokemon).\n",
    "\n",
    "Example usage of `get_pokemon_types`:\n",
    "\n",
    "```\n",
    "get_pokemon_types(\"pikachu\")   # returns [\"electric\"]\n",
    "get_pokemon_types(\"bulbasaur\") # returns [\"poison\", \"grass\"]\n",
    "get_pokemon_types(\"snorlax\")   # returns [\"normal\"]\n",
    "get_pokemon_types(\"moltres\")   # returns [\"flying\", \"fire\"]\n",
    "```"
   ]
  },
  {
   "cell_type": "code",
   "execution_count": 5,
   "metadata": {
    "nbgrader": {
     "grade": false,
     "grade_id": "7a3bfc0b4fd038eda4f75d360728f9e6",
     "locked": false,
     "schema_version": 3,
     "solution": true,
     "task": false
    }
   },
   "outputs": [],
   "source": [
    "### BEGIN SOLUTION\n",
    "\n",
    "\n",
    "from test_scripts.test_class import Test\n",
    "test = Test()\n",
    "\n",
    "def get_pokemon_types(name):\n",
    "    '''\n",
    "    input: name - a string of the pokemon's name\n",
    "    \n",
    "    return: a list of strings of the one or more types belonging to the pokemon\n",
    "    '''\n",
    "    url = f\"https://pokeapi.co/api/v2/pokemon/{name}\"\n",
    "    poke_data = requests.get(url).json()\n",
    "    \n",
    "    return [type_data[\"type\"][\"name\"] for type_data in poke_data[\"types\"]]\n",
    "\n",
    "test.save(get_pokemon_types(\"pikachu\"), 'pika_type')\n",
    "test.save(get_pokemon_types(\"snorlax\"), 'snorlax_type')\n",
    "test.save(get_pokemon_types(\"moltres\"), 'moltres_type')\n",
    "test.save(get_pokemon_types(\"squirtle\"), 'squirtle_type')\n",
    "\n",
    "### END SOLUTION\n",
    "\n",
    "#Uncomment and replace the `None`s with your work to complete the function\n",
    "\n",
    "#Check your work with the provided test cell below\n",
    "\n",
    "def get_pokemon_types(name):\n",
    "    '''\n",
    "    input: name - a string of the pokemon's name\n",
    "    \n",
    "    return: a list of strings of the one or more types belonging to the pokemon\n",
    "    '''\n",
    "    # Make a request to \"https://pokeapi.co/api/v2/pokemon/<add-name-of-pokemon-here>\"\n",
    "    #None\n",
    "    # Extract and return the names of the types\n",
    "    #None"
   ]
  },
  {
   "cell_type": "code",
   "execution_count": 3,
   "metadata": {
    "nbgrader": {
     "grade": true,
     "grade_id": "65447bcd4ba42676b5596aba02e6b28f",
     "locked": true,
     "points": 1,
     "schema_version": 3,
     "solution": false,
     "task": false
    }
   },
   "outputs": [],
   "source": [
    "# Run this cell to test your code\n",
    "get_pokemon_types(\"bulbasaur\")\n",
    "\n",
    "# PUT ALL WORK FOR THE ABOVE QUESTION ABOVE THIS CELL\n",
    "# THIS UNALTERABLE CELL CONTAINS HIDDEN TESTS\n",
    "\n",
    "### BEGIN HIDDEN TESTS\n",
    "\n",
    "\n",
    "from test_scripts.test_class import Test\n",
    "test = Test()\n",
    "\n",
    "test.run_test(get_pokemon_types(\"pikachu\"), \n",
    "              'pika_type',\n",
    "              \"looks like you didn't return the right content for poor pikachu???\"\n",
    "             )\n",
    "\n",
    "test.run_test(get_pokemon_types(\"snorlax\"), \n",
    "              'snorlax_type',\n",
    "              \"looks like you didn't return the right content for poor snorlax???\"\n",
    "             )\n",
    "\n",
    "test.run_test(get_pokemon_types(\"moltres\"), \n",
    "              'moltres_type',\n",
    "               \"looks like you didn't return the right content for poor moltres???\"\n",
    "             )\n",
    "\n",
    "test.run_test(get_pokemon_types(\"squirtle\"), \n",
    "              'squirtle_type',\n",
    "              \"looks like you didn't return the right content for poor squirtle???\"\n",
    "             )\n",
    "\n",
    "### END HIDDEN TESTS"
   ]
  },
  {
   "cell_type": "markdown",
   "metadata": {
    "nbgrader": {
     "grade": false,
     "grade_id": "ccaa1cd63cff6648fb526dff554e912b",
     "locked": true,
     "schema_version": 3,
     "solution": false,
     "task": false
    }
   },
   "source": [
    "## 2. Accessing Data Through Web Scraping\n",
    "\n",
    "The PokéAPI has lots of information about pokemon, but it doesn't have everything!\n",
    "\n",
    "Use [BeautifulSoup](https://www.crummy.com/software/BeautifulSoup/bs4/doc/) to find the designer(s) of a pokemon by scraping Wikipedia.  (Note: this only works for pokemon that are \"notable\" enough to have a Wikipedia page.)\n",
    "\n",
    "For example, [this is the Wikipedia page for Pikachu](https://en.wikipedia.org/wiki/Pikachu).  Before writing the following function, make sure you go to the site and inspect the page.  Look at the structure of the HTML elements in the info box (highlighted in red in the image below).\n",
    "\n",
    "![pikachu wikipedia page](pikachu_wikipedia.png)\n",
    "\n",
    "Complete the `get_pokemon_designers` function below.  It should return a **string** representing the designer(s) of the pokemon.  We have already completed the initial request for you.\n",
    "\n",
    "There are four steps to extract this information from the `soup` object:\n",
    "\n",
    "1. Find the `info_box` by searching `soup` for a `table` HTML tag with `class` `\"infobox\"`\n",
    "2. Find the `fifth_row` by searching `info_box` for `tr` HTML tags and selecting the fifth one (index 4)\n",
    "3. Find the `table_cell` by searching `fifth_row` for a `td` HTML tag\n",
    "4. Find the `designers` by extracting the `text` from `table_cell`\n",
    "\n",
    "Example usage of `get_pokemon_designers`:\n",
    "\n",
    "```\n",
    "get_pokemon_designers(\"pikachu\")   # returns 'Atsuko Nishida and Ken Sugimori'\n",
    "get_pokemon_designers(\"bulbasaur\") # returns 'Atsuko Nishida[1]'\n",
    "get_pokemon_designers(\"snorlax\")   # returns 'Ken Sugimori'\n",
    "get_pokemon_designers(\"moltres\")   # returns 'Ken Sugimori'\n",
    "```"
   ]
  },
  {
   "cell_type": "code",
   "execution_count": 4,
   "metadata": {
    "nbgrader": {
     "grade": false,
     "grade_id": "f8c779d7000b32621fdfbb62f55d92f0",
     "locked": false,
     "schema_version": 3,
     "solution": true,
     "task": false
    }
   },
   "outputs": [],
   "source": [
    "### BEGIN SOLUTION\n",
    "\n",
    "\n",
    "from test_scripts.test_class import Test\n",
    "test = Test()\n",
    "\n",
    "\n",
    "def get_pokemon_designers(name):\n",
    "    '''\n",
    "    input: name - a string of the pokemon's name\n",
    "    \n",
    "    return: a string representing the designer(s) of the pokemon\n",
    "    '''\n",
    "    wikipedia_page = requests.get(f\"https://en.wikipedia.org/wiki/{name}\")\n",
    "    soup = BeautifulSoup(wikipedia_page.content, \"html.parser\")\n",
    "    \n",
    "    # Search soup for a table HTML tag with class \"infobox\"\n",
    "    info_box = soup.find(\"table\", attrs={\"class\": \"infobox\"})\n",
    "    \n",
    "    # Search info_box for tr HTML tags and select the fifth one (index 4)\n",
    "    fifth_row = info_box.find_all(\"tr\")[4]\n",
    "    \n",
    "    # Search fifth_row for a td HTML tag\n",
    "    table_cell = fifth_row.find(\"td\")\n",
    "    \n",
    "    # Extract the text from table_cell\n",
    "    designers = table_cell.text\n",
    "    \n",
    "    return designers\n",
    "\n",
    "test.save(get_pokemon_designers(\"pikachu\"), 'pika_designers')\n",
    "test.save(get_pokemon_designers(\"snorlax\"), 'snorlax_designers')\n",
    "test.save(get_pokemon_designers(\"moltres\"), 'moltres_designers')\n",
    "test.save(get_pokemon_designers(\"squirtle\"), 'squirtle_designers')\n",
    "\n",
    "\n",
    "### END SOLUTION\n",
    "\n",
    "# Replace None with appropriate code\n",
    "\n",
    "def get_pokemon_designers(name):\n",
    "    '''\n",
    "    input: name - a string of the pokemon's name\n",
    "    \n",
    "    return: a string representing the designer(s) of the pokemon\n",
    "    '''\n",
    "    wikipedia_page = requests.get(f\"https://en.wikipedia.org/wiki/{name}\")\n",
    "    soup = BeautifulSoup(wikipedia_page.content, \"html.parser\")\n",
    "    \n",
    "    # Search soup for a table HTML tag with class \"infobox\"\n",
    "    info_box = None\n",
    "    \n",
    "    # Search info_box for tr HTML tags and select the fifth one (index 4)\n",
    "    fifth_row = None\n",
    "    \n",
    "    # Search fifth_row for a td HTML tag\n",
    "    table_cell = None\n",
    "    \n",
    "    # Extract the text from table_cell\n",
    "    designers = None\n",
    "    \n",
    "    return designers"
   ]
  },
  {
   "cell_type": "code",
   "execution_count": 6,
   "metadata": {
    "nbgrader": {
     "grade": true,
     "grade_id": "80da1692af03484ee00e5f7c27f977f5",
     "locked": true,
     "points": 1,
     "schema_version": 3,
     "solution": false,
     "task": false
    }
   },
   "outputs": [],
   "source": [
    "# Run this cell to test your code\n",
    "get_pokemon_designers(\"pikachu\")\n",
    "\n",
    "\n",
    "# PUT ALL WORK FOR THE ABOVE QUESTION ABOVE THIS CELL\n",
    "# THIS UNALTERABLE CELL CONTAINS HIDDEN TESTS\n",
    "\n",
    "### BEGIN HIDDEN TESTS\n",
    "\n",
    "\n",
    "from test_scripts.test_class import Test\n",
    "test = Test()\n",
    "\n",
    "test.run_test(get_pokemon_designers(\"pikachu\"), \n",
    "              'pika_designers', \n",
    "              \"looks like you didn't return the correct designers for poor pikachu??\"\n",
    "             )\n",
    "\n",
    "test.run_test(get_pokemon_designers(\"snorlax\"), \n",
    "              'snorlax_designers', \n",
    "              \"looks like you didn't return the correct designers for poor snorlax??\"\n",
    "             )\n",
    "\n",
    "test.run_test(get_pokemon_designers(\"moltres\"), \n",
    "              'moltres_designers', \n",
    "              \"looks like you didn't return the correct designers for poor moltres??\"\n",
    "             )\n",
    "\n",
    "test.run_test(get_pokemon_designers(\"squirtle\"), \n",
    "              'squirtle_designers', \n",
    "              \"looks like you didn't return the correct designers for poor squirtle??\"\n",
    "             )\n",
    "\n",
    "### END HIDDEN TESTS"
   ]
  },
  {
   "cell_type": "markdown",
   "metadata": {},
   "source": [
    "### Question 3\n",
    "\n",
    "List at least 3 REST API return codes and what they signify"
   ]
  },
  {
   "cell_type": "markdown",
   "metadata": {},
   "source": [
    "=== BEGIN MARK SCHEME ===\n",
    "\n",
    "'''\n",
    "\n",
    "- 200 Successful\n",
    "\n",
    "- 201 Created\n",
    "\n",
    "- 203 Accepted\n",
    "\n",
    "- 400 Bad request\n",
    "\n",
    "- 401 Unauthorized\n",
    "\n",
    "- 403 Forbidden\n",
    "\n",
    "- 404 Not found\n",
    "\n",
    "- 500 Internal server error\n",
    "\n",
    "- 501 Not implemented\n",
    "\n",
    "- 502 Bad gateway\n",
    "\n",
    "- 503 Service unavailable\n",
    "\n",
    "'''\n",
    "\n",
    "\n",
    "=== END MARK SCHEME ==="
   ]
  }
 ],
 "metadata": {
  "kernelspec": {
   "display_name": "learn-env",
   "language": "python",
   "name": "learn-env"
  },
  "language_info": {
   "codemirror_mode": {
    "name": "ipython",
    "version": 3
   },
   "file_extension": ".py",
   "mimetype": "text/x-python",
   "name": "python",
   "nbconvert_exporter": "python",
   "pygments_lexer": "ipython3",
   "version": "3.7.4"
  }
 },
 "nbformat": 4,
 "nbformat_minor": 4
}
